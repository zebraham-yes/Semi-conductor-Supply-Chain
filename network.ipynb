{
 "cells": [
  {
   "cell_type": "code",
   "execution_count": 1,
   "metadata": {},
   "outputs": [],
   "source": [
    "# import torch\n",
    "# import torch_geometric as tg\n",
    "import numpy as np\n",
    "from pandas import read_excel\n",
    "import networkx as nx\n",
    "import os\n",
    "from tqdm import tqdm\n",
    "import matplotlib.pyplot as plt\n",
    "\n",
    "file_root=\"互联网+集成电路\"\n"
   ]
  },
  {
   "cell_type": "code",
   "execution_count": 2,
   "metadata": {},
   "outputs": [
    {
     "name": "stderr",
     "output_type": "stream",
     "text": [
      "  0%|          | 0/215 [00:00<?, ?it/s]"
     ]
    },
    {
     "name": "stderr",
     "output_type": "stream",
     "text": [
      "100%|██████████| 215/215 [00:07<00:00, 28.29it/s]\n",
      "100%|██████████| 208/208 [00:06<00:00, 31.44it/s]\n"
     ]
    }
   ],
   "source": [
    "sup=[file for file in os.listdir(file_root) if \".xlsx\" in file and \"供应商\" in file]\n",
    "cus=[file for file in os.listdir(file_root) if \".xlsx\" in file and \"客户\" in file]\n",
    "\n",
    "sup_data_list=[]\n",
    "sup_name_list=[]\n",
    "sup_id_list=[]\n",
    "\n",
    "cus_data_list=[]\n",
    "cus_name_list=[]\n",
    "cus_id_list=[]\n",
    "\n",
    "\n",
    "def get_table_name(file,check):\n",
    "    name,s,kind=read_excel(os.path.join(file_root,file),header=1).columns[0].split(\"(\")\n",
    "    company_id,_=s.split(\")\")\n",
    "    kind=kind[:-1]\n",
    "    if kind==check:\n",
    "        table=read_excel(os.path.join(file_root,file),header=3)\n",
    "        try:\n",
    "            end=list(table[\"Ticker\"]).index('来源：彭博')    # 去掉末尾项\n",
    "            if len(table)<3:\n",
    "                print(file)\n",
    "            return name,company_id,table[:end]\n",
    "        except ValueError:   # 如果没后末尾项\n",
    "            return name,company_id,table\n",
    "    else:\n",
    "        print(\"wrong type\")\n",
    "        print(file,name,s,kind,sep=\"\\n\")\n",
    "        \n",
    "for file in tqdm(sup):\n",
    "    sup_name,sup_id,table=get_table_name(file,check=\"供应商\")\n",
    "    sup_data_list.append(table)\n",
    "    sup_id_list.append(sup_id)\n",
    "    sup_name_list.append(sup_name)\n",
    "\n",
    "for file in tqdm(cus):\n",
    "    cus_name,cus_id,table=get_table_name(file,check=\"客户\")\n",
    "    cus_data_list.append(table)\n",
    "    cus_id_list.append(cus_id)\n",
    "    cus_name_list.append(cus_name)"
   ]
  },
  {
   "cell_type": "code",
   "execution_count": null,
   "metadata": {},
   "outputs": [],
   "source": []
  },
  {
   "cell_type": "code",
   "execution_count": 3,
   "metadata": {},
   "outputs": [
    {
     "data": {
      "text/html": [
       "<div>\n",
       "<style scoped>\n",
       "    .dataframe tbody tr th:only-of-type {\n",
       "        vertical-align: middle;\n",
       "    }\n",
       "\n",
       "    .dataframe tbody tr th {\n",
       "        vertical-align: top;\n",
       "    }\n",
       "\n",
       "    .dataframe thead th {\n",
       "        text-align: right;\n",
       "    }\n",
       "</style>\n",
       "<table border=\"1\" class=\"dataframe\">\n",
       "  <thead>\n",
       "    <tr style=\"text-align: right;\">\n",
       "      <th></th>\n",
       "      <th>Ticker</th>\n",
       "      <th>Company Name</th>\n",
       "      <th>Cost Category</th>\n",
       "      <th>%Cost Category</th>\n",
       "      <th>%Supplier Rev</th>\n",
       "      <th>Relationship Value (Q) (Mln) (USD)</th>\n",
       "      <th>Relationship Year</th>\n",
       "      <th>Relationship Period</th>\n",
       "      <th>Source</th>\n",
       "      <th>As Of Date</th>\n",
       "    </tr>\n",
       "  </thead>\n",
       "  <tbody>\n",
       "    <tr>\n",
       "      <th>0</th>\n",
       "      <td>2330 TT Equity</td>\n",
       "      <td>台积电</td>\n",
       "      <td>COGS</td>\n",
       "      <td>43.209843</td>\n",
       "      <td>0.300501</td>\n",
       "      <td>50.280681</td>\n",
       "      <td>2023.0</td>\n",
       "      <td>Q1</td>\n",
       "      <td>Estimate (2330 TT)</td>\n",
       "      <td>2023/5/15</td>\n",
       "    </tr>\n",
       "  </tbody>\n",
       "</table>\n",
       "</div>"
      ],
      "text/plain": [
       "           Ticker Company Name Cost Category  %Cost Category  %Supplier Rev  \\\n",
       "0  2330 TT Equity          台积电          COGS       43.209843       0.300501   \n",
       "\n",
       "   Relationship Value (Q) (Mln) (USD)  Relationship Year Relationship Period  \\\n",
       "0                           50.280681             2023.0                  Q1   \n",
       "\n",
       "               Source As Of Date  \n",
       "0  Estimate (2330 TT)  2023/5/15  "
      ]
     },
     "execution_count": 3,
     "metadata": {},
     "output_type": "execute_result"
    }
   ],
   "source": [
    "sup_data_list[0].head(1)\n"
   ]
  },
  {
   "cell_type": "code",
   "execution_count": 4,
   "metadata": {},
   "outputs": [],
   "source": [
    "g=nx.DiGraph()\n",
    "\n",
    "\n",
    "# 供应商数据\n",
    "num_sup=len(sup)\n",
    "for i in range(num_sup):\n",
    "    company_id=sup_id_list[i] # 公司名称\n",
    "    company_name=sup_name_list[i]\n",
    "    \n",
    "    g.add_node(company_id,name=company_name)\n",
    "    company_node=g.nodes[company_id]\n",
    "    \n",
    "    for j,d in sup_data_list[i].iterrows():\n",
    "        d=dict(d)\n",
    "        sup_company_id=d.pop('Ticker')\n",
    "        sup_company_name=d.pop('Company Name')\n",
    "        SupRev_ratio=d.pop('%Supplier Rev')\n",
    "        CateCost_ratio=d.pop('%Cost Category')\n",
    "        category=d[\"Cost Category\"]\n",
    "        Q=d['Relationship Value (Q) (Mln) (USD)']\n",
    "        if category not in company_node:  # 如果这类成本尚未被标记，则标记进去\n",
    "            company_node[category]=Q/CateCost_ratio\n",
    "        \n",
    "        g.add_edge(sup_company_id,company_id,**d)  # 用字典添加边属性\n",
    "        g.add_node(sup_company_id,  # 添加供应商点属性\n",
    "                   **{\"name\":sup_company_name,\n",
    "                    \"Rev\":Q/SupRev_ratio\n",
    "                   })\n",
    "\n",
    "# 客户数据\n",
    "num_cus=len(cus)\n",
    "for i in range(num_cus):\n",
    "    company_id=cus_id_list[i] # 公司名称\n",
    "    company_name=cus_name_list[i]\n",
    "    \n",
    "    g.add_node(company_id,name=company_name)\n",
    "    \n",
    "    for j,d in cus_data_list[i].iterrows():\n",
    "        d=dict(d)\n",
    "        cus_company_id=d.pop('Ticker')\n",
    "        cus_company_name=d.pop('Company Name')\n",
    "        Rev_ratio=d.pop('%Company Rev')\n",
    "        CusCateCost_ratio=d.pop('%Customer Cost Category')\n",
    "        Q=d['Relationship Value (Q) (Mln) (USD)']\n",
    "        cus_category=d[\"Cost Category\"]\n",
    "                \n",
    "        if not j:  # 如果是第一个就添加\n",
    "            g.add_node(company_id,name=company_name,Rev=Q/Rev_ratio)\n",
    "        g.add_edge(company_id,cus_company_id,**d)\n",
    "        \n",
    "        cus_company_node=g.nodes[cus_company_id]\n",
    "        # 添加Customer Cost属性\n",
    "        if cus_category not in cus_company_node:  # 如果已经有cost dict了\n",
    "            cus_company_node[cus_category]=Q/CusCateCost_ratio\n"
   ]
  },
  {
   "cell_type": "code",
   "execution_count": 14,
   "metadata": {},
   "outputs": [
    {
     "data": {
      "text/plain": [
       "{'s': 3, 'r': 5}"
      ]
     },
     "execution_count": 14,
     "metadata": {},
     "output_type": "execute_result"
    }
   ],
   "source": [
    "g=nx.DiGraph()\n",
    "g.add_edge(1,2)\n",
    "g.add_edge(1,4)\n",
    "g.add_node(1,s=3)\n",
    "g.add_node(1,r=5)\n",
    "g.nodes[1]  # 可以连续写入信息"
   ]
  },
  {
   "cell_type": "code",
   "execution_count": 33,
   "metadata": {},
   "outputs": [
    {
     "data": {
      "text/plain": [
       "{'name': '三星电子有限公司 ',\n",
       " 'Rev': 519.3136198494585,\n",
       " 'COGS': 316.52667558969375,\n",
       " 'CAPEX': 122.61287183344908,\n",
       " 'SGA': 77.97377217500055,\n",
       " nan: nan,\n",
       " nan: nan,\n",
       " nan: nan,\n",
       " nan: nan,\n",
       " nan: nan,\n",
       " 'country': 'KS'}"
      ]
     },
     "execution_count": 33,
     "metadata": {},
     "output_type": "execute_result"
    }
   ],
   "source": [
    "g.nodes['005930 KS Equity']"
   ]
  },
  {
   "cell_type": "code",
   "execution_count": 22,
   "metadata": {},
   "outputs": [
    {
     "data": {
      "text/plain": [
       "{'Cost Category': 'CAPEX',\n",
       " 'Relationship Value (Q) (Mln) (USD)': 109.446312,\n",
       " 'Relationship Year': 2023.0,\n",
       " 'Relationship Period': 'Q1',\n",
       " 'Source': 'Estimate (AMD US)',\n",
       " 'As Of Date': '2023/6/22'}"
      ]
     },
     "execution_count": 22,
     "metadata": {},
     "output_type": "execute_result"
    }
   ],
   "source": [
    "g.edges[('AMD US Equity', 'META US Equity')]"
   ]
  },
  {
   "cell_type": "code",
   "execution_count": 5,
   "metadata": {},
   "outputs": [
    {
     "name": "stderr",
     "output_type": "stream",
     "text": [
      "100%|██████████| 1381/1381 [00:00<00:00, 456340.80it/s]\n"
     ]
    }
   ],
   "source": [
    "for node_id in tqdm(g.nodes):\n",
    "    node=g.nodes[node_id]\n",
    "    if type(node_id) != float:\n",
    "        node[\"country\"]=node_id.split(\" \")[1]\n",
    "    # if \"Rev\" not in node.keys():\n",
    "    #     node[\"Rev\"]=-1\n",
    "# nx.write_graphml(g, \"semi_supply_chain_more.graphml\")"
   ]
  },
  {
   "cell_type": "code",
   "execution_count": 6,
   "metadata": {},
   "outputs": [
    {
     "data": {
      "text/html": [
       "<div>\n",
       "<style scoped>\n",
       "    .dataframe tbody tr th:only-of-type {\n",
       "        vertical-align: middle;\n",
       "    }\n",
       "\n",
       "    .dataframe tbody tr th {\n",
       "        vertical-align: top;\n",
       "    }\n",
       "\n",
       "    .dataframe thead th {\n",
       "        text-align: right;\n",
       "    }\n",
       "</style>\n",
       "<table border=\"1\" class=\"dataframe\">\n",
       "  <thead>\n",
       "    <tr style=\"text-align: right;\">\n",
       "      <th></th>\n",
       "      <th>Id</th>\n",
       "      <th>name</th>\n",
       "      <th>INDUSTRY_SUBGROUP</th>\n",
       "      <th>CRNCY_ADJ_MKT_CAP</th>\n",
       "      <th>ULT_PARENT_CNTRY_OF_RISK</th>\n",
       "      <th>StockMarket</th>\n",
       "      <th>CITY_OF_DOMICILE</th>\n",
       "      <th>BS_PATENTS_TRADEMARKS_COPY_RGHTS</th>\n",
       "      <th>R&amp;D_BDP</th>\n",
       "      <th>R&amp;D_SUP</th>\n",
       "      <th>SGA_SUP</th>\n",
       "      <th>CAPEX_SUP</th>\n",
       "      <th>COGS_SUP</th>\n",
       "      <th>Rev_BDP</th>\n",
       "      <th>Rev_SUP</th>\n",
       "      <th>DOD_SANCTION</th>\n",
       "    </tr>\n",
       "  </thead>\n",
       "  <tbody>\n",
       "    <tr>\n",
       "      <th>0</th>\n",
       "      <td>ALGM US Equity</td>\n",
       "      <td>Allegro MicroSystems股份有限公司</td>\n",
       "      <td>Semiconductor Equipment</td>\n",
       "      <td>5119.804117</td>\n",
       "      <td>JP</td>\n",
       "      <td>US</td>\n",
       "      <td>Manchester</td>\n",
       "      <td>21.971</td>\n",
       "      <td>150.85</td>\n",
       "      <td>NaN</td>\n",
       "      <td>NaN</td>\n",
       "      <td>NaN</td>\n",
       "      <td>1.16364</td>\n",
       "      <td>973.653</td>\n",
       "      <td>2.434133</td>\n",
       "      <td>U</td>\n",
       "    </tr>\n",
       "  </tbody>\n",
       "</table>\n",
       "</div>"
      ],
      "text/plain": [
       "               Id                        name        INDUSTRY_SUBGROUP  \\\n",
       "0  ALGM US Equity  Allegro MicroSystems股份有限公司  Semiconductor Equipment   \n",
       "\n",
       "  CRNCY_ADJ_MKT_CAP ULT_PARENT_CNTRY_OF_RISK StockMarket CITY_OF_DOMICILE  \\\n",
       "0       5119.804117                       JP          US       Manchester   \n",
       "\n",
       "  BS_PATENTS_TRADEMARKS_COPY_RGHTS R&D_BDP  R&D_SUP  SGA_SUP CAPEX_SUP  \\\n",
       "0                           21.971  150.85      NaN      NaN       NaN   \n",
       "\n",
       "   COGS_SUP  Rev_BDP   Rev_SUP DOD_SANCTION  \n",
       "0   1.16364  973.653  2.434133            U  "
      ]
     },
     "execution_count": 6,
     "metadata": {},
     "output_type": "execute_result"
    }
   ],
   "source": [
    "import pandas as pd\n",
    "bdp_data=pd.read_excel(\"点BDP更新.xlsx\")\n",
    "bdp_data.head(1)"
   ]
  },
  {
   "cell_type": "code",
   "execution_count": 7,
   "metadata": {},
   "outputs": [
    {
     "name": "stderr",
     "output_type": "stream",
     "text": [
      "0it [00:00, ?it/s]"
     ]
    },
    {
     "name": "stderr",
     "output_type": "stream",
     "text": [
      "1381it [00:00, 15691.68it/s]\n"
     ]
    }
   ],
   "source": [
    "# 从Excel中导入彭博的财务方面数据\n",
    "\n",
    "g2=nx.DiGraph()\n",
    "for i in g.edges:\n",
    "    g2.add_edge(i[0],i[1],**g.edges[i])\n",
    "    \n",
    "for i,line in tqdm(bdp_data.iterrows()):\n",
    "    line=dict(line)\n",
    "    Id=line.pop(\"Id\")\n",
    "    g2.add_node(Id,**line)"
   ]
  },
  {
   "cell_type": "code",
   "execution_count": 9,
   "metadata": {},
   "outputs": [
    {
     "data": {
      "text/plain": [
       "{'name': 'Allegro MicroSystems股份有限公司',\n",
       " 'INDUSTRY_SUBGROUP': 'Semiconductor Equipment',\n",
       " 'CRNCY_ADJ_MKT_CAP': 5119.8041174,\n",
       " 'ULT_PARENT_CNTRY_OF_RISK': 'JP',\n",
       " 'StockMarket': 'US',\n",
       " 'CITY_OF_DOMICILE': 'Manchester',\n",
       " 'BS_PATENTS_TRADEMARKS_COPY_RGHTS': 21.971,\n",
       " 'R&D_BDP': 150.85,\n",
       " 'R&D_SUP': nan,\n",
       " 'SGA_SUP': nan,\n",
       " 'CAPEX_SUP': nan,\n",
       " 'COGS_SUP': 1.16363952283752,\n",
       " 'Rev_BDP': 973.653,\n",
       " 'Rev_SUP': 2.4341326060606,\n",
       " 'DOD_SANCTION': 'U'}"
      ]
     },
     "execution_count": 9,
     "metadata": {},
     "output_type": "execute_result"
    }
   ],
   "source": [
    "g2.nodes[\"ALGM US Equity\"]"
   ]
  },
  {
   "cell_type": "code",
   "execution_count": 116,
   "metadata": {},
   "outputs": [],
   "source": [
    "nx.write_gexf(g2, \"semi_supply_chain_more_SeletedEdge.gexf\",encoding=\"gbk\")\n"
   ]
  },
  {
   "cell_type": "code",
   "execution_count": 133,
   "metadata": {},
   "outputs": [
    {
     "name": "stderr",
     "output_type": "stream",
     "text": [
      "100%|██████████| 4261/4261 [00:00<00:00, 693409.22it/s]\n",
      "100%|██████████| 4261/4261 [00:00<00:00, 419597.81it/s]\n",
      "100%|██████████| 4261/4261 [00:00<00:00, 694919.10it/s]\n"
     ]
    }
   ],
   "source": [
    "kind_sub_edge=set()\n",
    "for edge in tqdm(g2.edges):\n",
    "    kind_sub_edge.add((g2.nodes[edge[0]]['INDUSTRY_SUBGROUP'],g2.nodes[edge[1]]['INDUSTRY_SUBGROUP']))\n",
    "    \n",
    "kind_stat={}\n",
    "value_stat={}  # 统计总关系规模\n",
    "for kind in kind_sub_edge:\n",
    "    kind_stat[kind]=0\n",
    "    value_stat[kind]=0\n",
    "    \n",
    "for edge in tqdm(g2.edges):\n",
    "    kind=(g2.nodes[edge[0]]['INDUSTRY_SUBGROUP'],g2.nodes[edge[1]]['INDUSTRY_SUBGROUP'])\n",
    "    kind_stat[kind]+=1\n",
    "    \n",
    "    value=g2.edges[edge]['Relationship Value (Q) (Mln) (USD)']\n",
    "    if not np.isnan(value):\n",
    "        value_stat[kind]+=value\n",
    "    # if type(kind[0])==type(kind[1])==str:\n",
    "    #     g2.edges[edge][\"FromTo\"]=\"=>\".join(kind)\n",
    "        \n",
    "# 去掉过于稀有的类型\n",
    "kind_stat2={}\n",
    "value_stat2={}\n",
    "for i in kind_stat:\n",
    "    if kind_stat[i]>10:\n",
    "        kind_stat2[i]=kind_stat[i]\n",
    "        value_stat2[i]=value_stat[i]\n",
    "        \n",
    "for edge in tqdm(g2.edges):\n",
    "    kind=(g2.nodes[edge[0]]['INDUSTRY_SUBGROUP'],g2.nodes[edge[1]]['INDUSTRY_SUBGROUP'])\n",
    "    # kind_stat[kind]+=1\n",
    "    if kind in kind_stat2:\n",
    "        if type(kind[0])==type(kind[1])==str:  # 排除包含nan的情况\n",
    "            g2.edges[edge][\"FromTo\"]=\"=>\".join(kind)     \n"
   ]
  },
  {
   "cell_type": "code",
   "execution_count": null,
   "metadata": {},
   "outputs": [],
   "source": []
  },
  {
   "cell_type": "code",
   "execution_count": 85,
   "metadata": {},
   "outputs": [],
   "source": [
    "pd.DataFrame([kind_stat.keys(),kind_stat.values(),value_stat.values()]).to_excel(\"连边类型统计.xlsx\")"
   ]
  },
  {
   "cell_type": "code",
   "execution_count": 141,
   "metadata": {},
   "outputs": [
    {
     "data": {
      "text/plain": [
       "NodeView(('Electronic Compo-Semicon', 'Semiconductor Equipment', 'Electronic Parts Distrib', 'Semicon Compo-Intg Circu', 'Computers', 'Electronic Compo-Misc', 'Audio/Video Products', 'Auto/Trk Prts&Equip-Orig', 'Telecommunication Equip', 'Auto-Cars/Light Trucks', 'Computer Services', 'Circuit Boards', 'Networking Products', 'Chemicals-Diversified', 'Retail-Consumer Electron', 'E-Commerce/Products', 'Wireless Equipment', 'Web Portals/ISP', 'Computers-Memory Devices', 'Diversified Manufact Op', 'Electronic Measur Instr', 'Cellular Telecom', 'Computers-Peripher Equip', 'Applications Software', 'Telephone-Integrated', 'Chemicals-Specialty', 'Aerospace/Defense', 'Industrial Automat/Robot', 'Distribution/Wholesale', 'Metal Processors&Fabrica', 'Electric Products-Misc', 'Machinery-Electric Util', 'Internet Content-Entmnt', 'Power Conv/Supply Equip', 'Industrial Gases', 'Lasers-Syst/Components', 'Investment Companies', 'Computers-Other', 'Advanced Materials/Prd', 'Rubber-Tires', 'Food-Retail', 'Retail-Discount', 'Entertainment Software', 'Internet Content-Info/Ne', 'Instruments-Controls', 'Electronic Connectors', 'Printing-Commercial', 'Machinery-Constr&Mining', 'E-Services/Consulting', 'Appliances', 'Medical Products', 'Retail-Computer Equip', 'Energy-Alternate Sources', 'Import/Export', 'Cable/Satellite TV', 'Computer Software', 'Instruments-Scientific', 'Cosmetics&Toiletries', 'Transport-Rail', 'Bldg Prod-Doors&Windows', 'Capacitors', 'Machinery-General Indust', 'Office Automation&Equip', 'Machinery-Electrical', 'Photo Equipment&Supplies', 'Textile-Apparel', 'Electronics-Military', 'Metal-Diversified', 'Software Tools', 'B2B/E-Commerce', 'Telecom Services', 'Enterprise Software/Serv', 'Miscellaneous Manufactur', 'Transport-Services', 'Bldg Prod-Air&Heating', 'Lighting Products&Sys', 'Real Estate Oper/Develop', 'Engineering/R&D Services', 'Rubber&Vinyl', 'Commercial Serv-Finance', 'Optical Supplies', 'Industr Audio&Video Prod', 'Retail-Major Dept Store', 'Aerospace/Defense-Equip', 'E-Marketing/Info', 'Telecom Eq Fiber Optics', 'Computers-Integrated Sys', 'Finance-Leasing Compan', 'Steel-Producers', 'REITS-Diversified', 'Retail-Misc/Diversified', 'Soap&Cleaning Prepar', 'Music', 'Apparel Manufacturers', 'Oil Refining&Marketing', 'Computer Aided Design', 'Schools', 'Identification Sys/Dev', 'Chemicals-Plastics', 'Auto-Med&Heavy Duty Trks', 'Electric-Generation', 'Commercial Services', 'Toys', 'Mach Tools&Rel Products', 'Diagnostic Equipment', 'Finance-Other Services', 'Electronic Forms', 'REITS-Office Property', 'Batteries/Battery Sys', 'Medical Information Sys', 'Film Processing', 'Communications Software', 'Consumer Products-Misc', 'Athletic Footwear', 'Retail-Jewelry', 'Retail-Building Products', 'Retail-Regnl Dept Store', 'Computer Data Security', 'E-Commerce/Services', 'Non-hazardous Waste Disp', 'Metal Products-Fasteners', 'Rubber/Plastic Products', 'Human Resources', 'Oil Comp-Integrated', '#N/A Invalid Security', 'Chemicals-Fibers', 'Research&Development', 'Machinery-Pumps', 'Airlines', 'Wire&Cable Products', 'Diversified Minerals', 'Rental Auto/Equipment', 'REITS-Shopping Centers', 'Tools-Hand Held', 'Medical-Biomedical/Gene', 'Metal-Copper', 'Internet Infrastr Equip', 'Computer Graphics', 'Diversified Operations', 'Life/Health Insurance', 'Internet Connectiv Svcs', 'Consulting Services', 'Metal-Iron', 'Building&Construct-Misc', 'REITS-Warehouse/Industr', 'Transactional Software', 'Advertising Services', 'Machinery-Farm', 'Real Estate Mgmnt/Servic', 'Medical-Drugs', 'Coatings/Paint', 'Invest Mgmnt/Advis Serv', 'Electric-Integrated', 'Food-Catering', 'Home Furnishings', 'Sovereign Agency', 'Water Treatment Systems', 'Machinery-Therml Process', 'Bldg&Construct Prod-Misc', 'Motion Pictures&Services', 'Property/Casualty Ins', 'Non-Ferrous Metals', 'Electronic Secur Devices', 'Commer Banks Non-US', 'Food-Dairy Products', 'Marine Services', 'Advertising Agencies', 'Food-Misc/Diversified', 'Private Equity', 'Auto/Trk Prts&Equip-Repl', 'Building-Heavy Construct', 'Machinery-Material Handl', 'Environ Consulting&Eng', 'Traffic Management Sys', 'Bldg Prod-Light Fixtures', 'Steel-Specialty', 'Containers-Paper/Plastic', 'Textile-Products', 'Internet Infrastr Sftwr', 'Multilevel Dir Selling', 'Internet Applic Sftwr', 'Medical Instruments', 'Chemicals-Other', 'Optical Recognition Equi', 'Petrochemicals', 'Retail-Hypermarkets', 'Multi-line Insurance', nan, 'Internet Security', 'Retail-Auto Parts'))"
      ]
     },
     "execution_count": 141,
     "metadata": {},
     "output_type": "execute_result"
    }
   ],
   "source": [
    "indus_stat_table=pd.read_excel(\"连边类型统计.xlsx\")\n",
    "indus_graph=nx.DiGraph()\n",
    "for i,line in indus_stat_table.iterrows():\n",
    "    line=dict(line)\n",
    "    indus_graph.add_edge(line.pop(\"from\"),line.pop(\"to\"),frec=line[\"freq\"],w=line[\"Q\"])\n",
    "indus_graph.nodes"
   ]
  },
  {
   "cell_type": "code",
   "execution_count": 142,
   "metadata": {},
   "outputs": [],
   "source": [
    "nx.write_gml(indus_graph,\"indus_graph.gml\")"
   ]
  },
  {
   "cell_type": "code",
   "execution_count": 44,
   "metadata": {},
   "outputs": [
    {
     "name": "stdout",
     "output_type": "stream",
     "text": [
      "AMD US Equity\n"
     ]
    }
   ],
   "source": [
    "# 数据完善：\n",
    "# 后续可以做的主要是：通过网络搜索获得公司的主营业务\n",
    "# 对没有标签的公司进行标签推测\n",
    "# 如果出度为0入度为1，这样的点基本上可以认为不是半导体相关的\n",
    "# 如何知道世界上是否还有其它半导体相关的公司呢？\n",
    "\n",
    "\n",
    "# 分析：\n",
    "# 谁是不可或缺的一环？谁和谁是替代的关系？\n",
    "# 中国半导体产业是否有可能做成自循环？\n",
    "# \n",
    "\n",
    "\n",
    "# 一些初步洞见：\n",
    "# "
   ]
  },
  {
   "cell_type": "code",
   "execution_count": null,
   "metadata": {},
   "outputs": [],
   "source": []
  },
  {
   "cell_type": "code",
   "execution_count": 14,
   "metadata": {},
   "outputs": [],
   "source": [
    "nx.write_graphml(g2,\"python_graph.graphml\")"
   ]
  },
  {
   "cell_type": "code",
   "execution_count": 15,
   "metadata": {},
   "outputs": [],
   "source": [
    "g3=nx.read_graphml(\"python_graph.graphml\")"
   ]
  },
  {
   "cell_type": "code",
   "execution_count": null,
   "metadata": {},
   "outputs": [],
   "source": []
  },
  {
   "cell_type": "code",
   "execution_count": null,
   "metadata": {},
   "outputs": [],
   "source": []
  },
  {
   "cell_type": "code",
   "execution_count": null,
   "metadata": {},
   "outputs": [],
   "source": []
  },
  {
   "cell_type": "code",
   "execution_count": null,
   "metadata": {},
   "outputs": [],
   "source": []
  }
 ],
 "metadata": {
  "kernelspec": {
   "display_name": "Python 3",
   "language": "python",
   "name": "python3"
  },
  "language_info": {
   "codemirror_mode": {
    "name": "ipython",
    "version": 3
   },
   "file_extension": ".py",
   "mimetype": "text/x-python",
   "name": "python",
   "nbconvert_exporter": "python",
   "pygments_lexer": "ipython3",
   "version": "3.10.13"
  }
 },
 "nbformat": 4,
 "nbformat_minor": 2
}
